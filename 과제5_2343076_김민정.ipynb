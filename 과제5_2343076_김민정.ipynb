{
  "nbformat": 4,
  "nbformat_minor": 0,
  "metadata": {
    "colab": {
      "provenance": [],
      "authorship_tag": "ABX9TyOTWGs1IPz+Z96A4HVfVzcX",
      "include_colab_link": true
    },
    "kernelspec": {
      "name": "python3",
      "display_name": "Python 3"
    },
    "language_info": {
      "name": "python"
    }
  },
  "cells": [
    {
      "cell_type": "markdown",
      "metadata": {
        "id": "view-in-github",
        "colab_type": "text"
      },
      "source": [
        "<a href=\"https://colab.research.google.com/github/cicusnm/2024-1/blob/main/%EA%B3%BC%EC%A0%9C5_2343076_%EA%B9%80%EB%AF%BC%EC%A0%95.ipynb\" target=\"_parent\"><img src=\"https://colab.research.google.com/assets/colab-badge.svg\" alt=\"Open In Colab\"/></a>"
      ]
    },
    {
      "cell_type": "code",
      "source": [
        "import random\n",
        "import time\n",
        "import sys\n",
        "import numpy as np"
      ],
      "metadata": {
        "id": "yWFRmxXsKn7Z"
      },
      "execution_count": null,
      "outputs": []
    },
    {
      "cell_type": "code",
      "execution_count": null,
      "metadata": {
        "id": "73hgY-D7PJfh",
        "colab": {
          "base_uri": "https://localhost:8080/"
        },
        "outputId": "277d3031-0573-4e50-f688-d11f81b96d4c"
      },
      "outputs": [
        {
          "output_type": "stream",
          "name": "stdout",
          "text": [
            "Selection Sort Processing Time: 0.003992965912818908\n",
            "Selection Sort(Recursive) Processing Time: 0.005196187090873718\n"
          ]
        }
      ],
      "source": [
        "def selectionSort(A):\n",
        "  for last in range(len(A)-1, 0,-1):\n",
        "    k=theLargest(A, last) #가장 큰 수의 인덱스를 찾는다\n",
        "    A[k], A[last]=A[last], A[k] #마지막에 위치한 수와 가장 큰 수의 자리를 바꾼다\n",
        "\n",
        "def theLargest(A, last:int)->int: #가장 큰 수의 위치를 찾는다\n",
        "  largest=0\n",
        "  for i in range(last+1):\n",
        "    if A[i]>A[largest]: #현재 인덱스의 숫자와 largest에 위치한 숫자의 크기를 비교한다\n",
        "      largest=i #현재 인덱스의 숫자가 더 크다면 largest를 현재 인덱스로 저장한다\n",
        "  return largest #인덱스 반환\n",
        "\n",
        "def selectionSortRec(A,  n):\n",
        "  if n>2:\n",
        "    k=theLargest4Rec(A, n-1) #배열에서 가장 큰 수의 인덱스를 찾는다\n",
        "    A[k], A[n-1]=A[n-1], A[k] #큰 수와 배열의 마지막 수의 위치를 바꾼다\n",
        "    selectionSortRec(A, n-1) #길이가 하나 줄여 재귀호출\n",
        "\n",
        "def theLargest4Rec(A, last:int)->int:\n",
        "  largest=0\n",
        "  for i in range(last):\n",
        "    if A[i]>A[largest+1]:\n",
        "      largest=i\n",
        "  return largest\n",
        "\n",
        "listLength=300\n",
        "sys.setrecursionlimit(listLength*100)\n",
        "A=[]\n",
        "times=[]\n",
        "for i in range(0, 10000):\n",
        "  for value in range(0, listLength):\n",
        "    A.append(random.randint(0,100))\n",
        "  B=A\n",
        "  start=time.time()\n",
        "  selectionSort(B)\n",
        "  end=time.time()\n",
        "  times.append(end-start)\n",
        "  A.clear()\n",
        "  B.clear()\n",
        "print('Selection Sort Processing Time:', np.mean(times))\n",
        "times.clear()\n",
        "for i in range(0, 10000):\n",
        "  for value in range(0, listLength):\n",
        "    A.append(random.randint(0,100))\n",
        "  B=A\n",
        "  start=time.time()\n",
        "  selectionSortRec(B, len(B)-1)\n",
        "  end=time.time()\n",
        "  times.append(end-start)\n",
        "  A.clear()\n",
        "  B.clear()\n",
        "print('Selection Sort(Recursive) Processing Time:', np.mean(times))\n",
        "times.clear()"
      ]
    },
    {
      "cell_type": "code",
      "source": [
        "def bubbleSort(A):\n",
        "  for numElements in range(len(A), 0, -1):   #배열의 길이를 한칸씩 줄인다\n",
        "    for i in range(numElements-1):  #한칸 씩 증가한다\n",
        "      if A[i]>A[i+1]:#이웃한 두 수의 크기를 비교한다\n",
        "        A[i], A[i+1]=A[i+1], A[i] #왼쪽 수가 크다면 오른쪽 수와 위치를 바꾼다\n",
        "\n",
        "def bubbleSortRec(A, n):\n",
        "  for i in range(n-1): #배열의 길이를 한칸 줄여 앞에서부터 비교한다\n",
        "    if A[i]>A[i+1]: #이웃한 두 수의 크기를 비교한다\n",
        "      A[i], A[i+1]=A[i+1], A[i] #왼쪽 수가 더 크다면 자리를 바꾼다\n",
        "  if n>1:\n",
        "      bubbleSortRec(A, n-1) #배열의 길이가 1보다 크다면 길이를 한칸 줄여 재귀호출한다\n",
        "\n",
        "listLength=300\n",
        "sys.setrecursionlimit(listLength*1000)\n",
        "A=[]\n",
        "times=[]\n",
        "for i in range(0, 10000):\n",
        "  for value in range(0, listLength):\n",
        "    A.append(random.randint(0,100))\n",
        "  B=A\n",
        "  start=time.time()\n",
        "  bubbleSort(B)\n",
        "  end=time.time()\n",
        "  times.append(end-start)\n",
        "  A.clear()\n",
        "  B.clear()\n",
        "print('bubble Sort Processing Time:', np.mean(times))\n",
        "times.clear()\n",
        "for i in range(0, 10000):\n",
        "  for value in range(0, listLength):\n",
        "    A.append(random.randint(0,100))\n",
        "  B=A\n",
        "  start=time.time()\n",
        "  bubbleSortRec(B, listLength)\n",
        "  end=time.time()\n",
        "  times.append(end-start)\n",
        "  A.clear()\n",
        "  B.clear()\n",
        "print('bubble Sort(Recursive) Processing Time:', np.mean(times))\n",
        "times.clear()"
      ],
      "metadata": {
        "id": "WsBrtzlxQ2m4",
        "colab": {
          "base_uri": "https://localhost:8080/"
        },
        "outputId": "b1921f03-caa1-4b1f-fff0-6de3ca9d0d97"
      },
      "execution_count": null,
      "outputs": [
        {
          "output_type": "stream",
          "name": "stdout",
          "text": [
            "bubble Sort Processing Time: 0.008381227660179139\n",
            "bubble Sort(Recursive) Processing Time: 0.008308406901359557\n"
          ]
        }
      ]
    },
    {
      "cell_type": "code",
      "source": [
        "def insertionSort(A):\n",
        "  for i in range(1, len(A)): #1부터 끝까지 이동한다\n",
        "    loc = i-1 #loc에 현재 위치의 이전위치를 저장한다\n",
        "    newItem=A[i] #newitem에 현재 위치의 숫자를 저장한다,삽입하고자 하는 수\n",
        "    while loc>=0 and newItem<A[loc]: #삽입하고자 하는 수보다 loc에 위치한 수가 클 때까지 진행한다\n",
        "      A[loc+1]=A[loc] #loc에 위치한 수의 위치를 오른쪽으로 옮긴다\n",
        "      loc-=1 #loc을 왼쪽으로 한칸 이동\n",
        "    A[loc+1]=newItem  #newitem 삽입\n",
        "\n",
        "\n",
        "def insertionSortRec(A, start, end):\n",
        "  value = A[start] #start 위치의 값을 value에 저장\n",
        "  loc=start #현재 위치를 처음위치로\n",
        "  while loc>0 and A[loc-1]>value: #현재위치의 왼쪽의 값이 value값보다 클때 동안 진행\n",
        "    A[loc]=A[loc-1] #현재위치의 왼쪽 위치의 수를 현재 인덱스의 값에 저장\n",
        "    loc-=1 #현재 위치의 왼쪽으로 이동\n",
        "  A[loc]=value #왼쪽의 값이 value보다 작으면 현재위치에 value 삽입\n",
        "  if start+1 < end: #시작위치를 오른쪽으로 이동\n",
        "    insertionSortRec(A, start+1, end) #재귀 호출\n",
        "\n",
        "listLength=300\n",
        "sys.setrecursionlimit(listLength*1000)\n",
        "A=[]\n",
        "times=[]\n",
        "for i in range(0, 10000):\n",
        "  for value in range(0, listLength):\n",
        "    A.append(random.randint(0,100))\n",
        "  B=A\n",
        "  start=time.time()\n",
        "  insertionSort(B)\n",
        "  end=time.time()\n",
        "  times.append(end-start)\n",
        "  A.clear()\n",
        "  B.clear()\n",
        "print('insert Sort Processing Time:', np.mean(times))\n",
        "times.clear()\n",
        "for i in range(0, 10000):\n",
        "  for value in range(0, listLength):\n",
        "    A.append(random.randint(0,100))\n",
        "  B=A\n",
        "  start=time.time()\n",
        "  insertionSortRec(B, 1, len(A)-1)\n",
        "  end=time.time()\n",
        "  times.append(end-start)\n",
        "  A.clear()\n",
        "  B.clear()\n",
        "print('insert Sort(Recursive) Processing Time:', np.mean(times))\n",
        "times.clear()"
      ],
      "metadata": {
        "id": "IPQL7-MwSNEL",
        "colab": {
          "base_uri": "https://localhost:8080/"
        },
        "outputId": "7a98cbc9-a402-4a91-ef78-3b01903191d6"
      },
      "execution_count": null,
      "outputs": [
        {
          "output_type": "stream",
          "name": "stdout",
          "text": [
            "insert Sort Processing Time: 0.003940024089813233\n",
            "insert Sort(Recursive) Processing Time: 0.004978707957267761\n"
          ]
        }
      ]
    },
    {
      "cell_type": "code",
      "source": [
        "def mergeSort(A):\n",
        "  if len(A) <= 1:  # 기본 케이스: 배열의 길이가 1 이하일때 반환\n",
        "    return A\n",
        "  mid = len(A) // 2  #배열을 반으로 나눈다\n",
        "  left = mergeSort(A[:mid])  #앞쪽 절반을 재귀적으로 정렬\n",
        "  right = mergeSort(A[mid:])  #뒤쪽 절반을 재귀적으로 정렬\n",
        "\n",
        "  return merge(left, right)  #두 정렬된 절반을 병합한다.\n",
        "\n",
        "def merge(left, right):\n",
        "  sorted_arr = []  #병합된 결과를 저장할 배열을 초기화합니다.\n",
        "  lefti, righti = 0, 0  #왼쪽과 오른쪽 배열의 인덱스를 초기화합니다.\n",
        "  while lefti < len(left) and righti < len(right):  #두 배열 끝까지 반복\n",
        "    if left[lefti] < right[righti]:     #양쪽 배열의 수를 크기 비교후 작은 수를 저장\n",
        "      sorted_arr.append(left[lefti])\n",
        "      lefti += 1  #인덱스를 증가시킨다\n",
        "    else:\n",
        "      sorted_arr.append(right[righti])\n",
        "      righti += 1 #인덱스를 증가 시킨다\n",
        "\n",
        "  #남은 원소 추가\n",
        "  sorted_arr.extend(left[lefti:])\n",
        "  sorted_arr.extend(right[righti:])\n",
        "\n",
        "  return sorted_arr #병합된 배열 반환\n",
        "\n",
        "listLength=300\n",
        "sys.setrecursionlimit(listLength*10000)\n",
        "A=[]\n",
        "times=[]\n",
        "for i in range(0, 10000):\n",
        "  for value in range(0, listLength):\n",
        "    A.append(random.randint(0,100))\n",
        "  B=A\n",
        "  start=time.time()\n",
        "  mergeSort(B)\n",
        "  end=time.time()\n",
        "  times.append(end-start)\n",
        "  A.clear()\n",
        "  B.clear()\n",
        "print('merge Sort Processing Time:', np.mean(times))\n",
        "times.clear()"
      ],
      "metadata": {
        "id": "A013pQd7UNjQ",
        "colab": {
          "base_uri": "https://localhost:8080/"
        },
        "outputId": "8efc1a46-08fb-4719-cc96-a335f93f4718"
      },
      "execution_count": null,
      "outputs": [
        {
          "output_type": "stream",
          "name": "stdout",
          "text": [
            "merge Sort Processing Time: 0.0009369113206863403\n"
          ]
        }
      ]
    },
    {
      "cell_type": "code",
      "source": [
        "def quickSort(A):\n",
        "    if len(A) <= 1: #길이가 1이하라면 배열을 반환한다\n",
        "      return A\n",
        "\n",
        "    pivot = A[len(A) -1 ]  #피벗을 배열의 마지막 값으로 선택\n",
        "    left = [x for x in A if x < pivot]  #피벗보다 작은 값을 찾는다\n",
        "    middle = [x for x in A if x == pivot]  #피벗과 같은 값을 찾는다\n",
        "    right = [x for x in A if x > pivot]  #피벗보다 큰 값을 찾는다\n",
        "    return quickSort(left) + middle + quickSort(right)  #재귀적으로 정렬된 배열을 합친다\n",
        "listLength=300\n",
        "sys.setrecursionlimit(listLength*1000)\n",
        "A=[]\n",
        "times=[]\n",
        "for i in range(0, 10000):\n",
        "  for value in range(0, listLength):\n",
        "    A.append(random.randint(0,100))\n",
        "  B=A\n",
        "  start=time.time()\n",
        "  quickSort(B)\n",
        "  end=time.time()\n",
        "  times.append(end-start)\n",
        "  A.clear()\n",
        "  B.clear()\n",
        "print('quick Sort Processing Time:', np.mean(times))\n",
        "times.clear()"
      ],
      "metadata": {
        "id": "-DSgXK2LWnMd",
        "colab": {
          "base_uri": "https://localhost:8080/"
        },
        "outputId": "33619eb2-80e1-41c9-b4d3-4f091a8a9e6d"
      },
      "execution_count": null,
      "outputs": [
        {
          "output_type": "stream",
          "name": "stdout",
          "text": [
            "quick Sort Processing Time: 0.0004961305618286133\n"
          ]
        }
      ]
    },
    {
      "cell_type": "code",
      "source": [
        "def heapSort(A):\n",
        "  buildHeap(A) #힙정렬을 만든다\n",
        "  for last in range(len(A)-1, 0, -1): #끝에서부터 1인덱스까지 진행\n",
        "    A[last], A[0] = A[0], A[last] #마지막에 위치한수와 첫번째 수를 바꾼다\n",
        "    percolateDown(A, 0, last-1) #힙을 재생성한다\n",
        "\n",
        "\n",
        "def buildHeap(A):\n",
        "  for i in range((len(A)-2)//2, -1, -1): #맨마지막 부모노드부터 시작한다\n",
        "    percolateDown(A, i, len(A)-1)  #하나씩 이동하며 서브트리 수선\n",
        "\n",
        "def percolateDown(A, k:int, end:int):\n",
        "  child = 2*k+1 #자식노드의 위치 찾는다(왼쪽)\n",
        "  right=2*k+2 #오른쪽 자식노드의 위치를 찾는다\n",
        "  if child <= end: #마지막노드까지\n",
        "    if right<=end and A[child]<A[right]: #오른쪽 노드가 마지막 노드가 아니고 왼쪽노드가 오른쪽 노드보다 작을때\n",
        "      child=right #오른쪽노드의 인덱스를 왼쪽 노드에 삽입\n",
        "\n",
        "    if A[k]<A[child]: #현재 노드의 수가 왼쪽 자식노드의 수보다 작을때\n",
        "      A[k], A[child]=A[child], A[k] #현재노드와 왼쪽 자식노드의 수를 바꾼다\n",
        "      percolateDown(A, child, end) #재귀호출\n",
        "\n",
        "listLength=300\n",
        "sys.setrecursionlimit(listLength*1000)\n",
        "A=[]\n",
        "times=[]\n",
        "for i in range(0, 10000):\n",
        "  for value in range(0, listLength):\n",
        "    A.append(random.randint(0,100))\n",
        "  B=A\n",
        "  start=time.time()\n",
        "  heapSort(B)\n",
        "  end=time.time()\n",
        "  times.append(end-start)\n",
        "  A.clear()\n",
        "  B.clear()\n",
        "print('heap Sort Processing Time:', np.mean(times))\n",
        "times.clear()"
      ],
      "metadata": {
        "id": "NmRyNYs1YAV6",
        "colab": {
          "base_uri": "https://localhost:8080/"
        },
        "outputId": "551fbb30-7c27-4406-f8ce-2021747c52cf"
      },
      "execution_count": null,
      "outputs": [
        {
          "output_type": "stream",
          "name": "stdout",
          "text": [
            "heap Sort Processing Time: 0.0011841077327728272\n"
          ]
        }
      ]
    },
    {
      "cell_type": "code",
      "source": [
        "def shellSort(A):\n",
        "  H=gapSequence(len(A)) #A배열의 길이의 수열을 만든다\n",
        "  for h in H: #H수열을 처음부터 순회한다\n",
        "    for k in range(h): #처음부터 h의 인덱스까지 순회\n",
        "      stepInsertionSort(A, k, h) #A배열을 k인덱스부터 h씩 증가하며 정렬한다\n",
        "\n",
        "def stepInsertionSort(A, k:int, h:int):\n",
        "  for i in range(k+h, len(A), h):#k+h부터 끝까지 순회\n",
        "    j=i-h #현재 위치에서 h만큼 왼쪽에 위치한 값을 j에 저장\n",
        "    newItem=A[i] #현재 위치한 값 저장\n",
        "    while 0<=j and newItem<A[j]:  #현재 위치한 값이 h만큼 왼쪽으로 떨어진 값보다 작을 동안\n",
        "      A[j+h]=A[j] #h 간격떨어진 수를 현재 위치에 저장\n",
        "      j-=h #j의 크기를 h만큼 감소시킨다\n",
        "    A[j+h]=newItem #현재 위치한 값을 i에 삽입\n",
        "\n",
        "def gapSequence(n: int) -> list:\n",
        "  H = [1];  gap = 1  #초기 간격을 1로 설정, 초기 간격 리스트 H를 [1]로 초기화\n",
        "  while gap < n / 5:  #gap이 n/5보다 작은 동안 반복\n",
        "    gap = 3 * gap + 1  #다음 간격을 3*현재 간격 + 1로 계산한다\n",
        "    H.append(gap)  #계산된 간격을 리스트 H에 추가한다\n",
        "  H.reverse()  #역순으로 정렬한다\n",
        "  return H  #H를 반환한다\n",
        "\n",
        "listLength=300\n",
        "sys.setrecursionlimit(listLength*1000)\n",
        "A=[]\n",
        "times=[]\n",
        "for i in range(0, 10000):\n",
        "  for value in range(0, listLength):\n",
        "    A.append(random.randint(0,100))\n",
        "  B=A\n",
        "  start=time.time()\n",
        "  shellSort(B)\n",
        "  end=time.time()\n",
        "  times.append(end-start)\n",
        "  A.clear()\n",
        "  B.clear()\n",
        "print('shell Sort Processing Time:', np.mean(times))\n",
        "times.clear()"
      ],
      "metadata": {
        "id": "vDzFxJI7ZiGw",
        "colab": {
          "base_uri": "https://localhost:8080/"
        },
        "outputId": "744e0c82-6f4f-4a0d-f246-dbaa5e55fdcd"
      },
      "execution_count": null,
      "outputs": [
        {
          "output_type": "stream",
          "name": "stdout",
          "text": [
            "shell Sort Processing Time: 0.0006909629583358765\n"
          ]
        }
      ]
    },
    {
      "cell_type": "code",
      "source": [
        "def countingSort(A):\n",
        "  k = max(A)  #배열 A의 최댓값을 k에 저장한다\n",
        "  C = [0 for _ in range(k + 1)]  #k+1 크기의 리스트 C를 0으로 초기화한다\n",
        "  for j in range(len(A)):\n",
        "    C[A[j]] += 1  #배열 A의 각 요소에 해당하는 인덱스의 값을 1 증가시킨다\n",
        "  for i in range(1, k + 1):\n",
        "    C[i] = C[i] + C[i - 1]  #각 인덱스의 값을 이전 인덱스의 값과 더해 누적 합을 만든다\n",
        "  B = [0 for _ in range(len(A))]  #배열 A와 같은 크기의 리스트 B를 0으로 초기화합니다.\n",
        "  for j in range(len(A) - 1, -1, -1):\n",
        "    B[C[A[j]] - 1] = A[j]  #배열 A의 요소를 C에 기록된 위치에 삽입한다\n",
        "    C[A[j]] -= 1  #사용된 위치를 하나 감소시킨다\n",
        "\n",
        "  return B  #B를 반환한다\n",
        "\n",
        "listLength=300\n",
        "sys.setrecursionlimit(listLength*1000)\n",
        "A=[]\n",
        "times=[]\n",
        "for i in range(0, 10000):\n",
        "  for value in range(0, listLength):\n",
        "    A.append(random.randint(0,100))\n",
        "  B=A\n",
        "  start=time.time()\n",
        "  countingSort(B)\n",
        "  end=time.time()\n",
        "  times.append(end-start)\n",
        "  A.clear()\n",
        "  B.clear()\n",
        "print('counting Sort Processing Time:', np.mean(times))\n",
        "times.clear()"
      ],
      "metadata": {
        "id": "E9nUB1cRawk4",
        "colab": {
          "base_uri": "https://localhost:8080/"
        },
        "outputId": "3663865e-b7e4-4f82-afd8-78e76a110d49"
      },
      "execution_count": null,
      "outputs": [
        {
          "output_type": "stream",
          "name": "stdout",
          "text": [
            "counting Sort Processing Time: 0.00012561995983123778\n"
          ]
        }
      ]
    },
    {
      "cell_type": "code",
      "source": [
        "import math\n",
        "\n",
        "def radixSort(A):\n",
        "  maxValue = max(A)  #A에서 최대값을 저장합니다.\n",
        "  numDigits = math.ceil(math.log10(maxValue + 1))  #최대값의 자릿수를 계산한다\n",
        "  bucket = [[] for _ in range(10)]  #0부터 9까지의 버킷 리스트를 생성한다\n",
        "\n",
        "  for i in range(numDigits):  #순회\n",
        "    for x in A:  #배열 A의 각 요소를 순회\n",
        "      y = (x // 10**i) % 10  #현재 자릿수의 숫자를 계산한다\n",
        "      bucket[y].append(x)  #해당 자릿수에 해당하는 버킷에 요소를 추가한다\n",
        "\n",
        "    A.clear()  #A를 비운다\n",
        "    for j in range(10):  #각 버킷을 순회한다\n",
        "      A.extend(bucket[j])  #버킷의 요소를 배열 A에 추가한다\n",
        "      bucket[j].clear()  #버킷을 비운다\n",
        "\n",
        "listLength=300\n",
        "sys.setrecursionlimit(listLength*1000)\n",
        "A=[]\n",
        "times=[]\n",
        "for i in range(0, 10000):\n",
        "  for value in range(0, listLength):\n",
        "    A.append(random.randint(0,100))\n",
        "  B=A\n",
        "  start=time.time()\n",
        "  radixSort(B)\n",
        "  end=time.time()\n",
        "  times.append(end-start)\n",
        "  A.clear()\n",
        "  B.clear()\n",
        "print('radix Sort Processing Time:', np.mean(times))\n",
        "times.clear()"
      ],
      "metadata": {
        "id": "d4DnkgZhbyH2",
        "colab": {
          "base_uri": "https://localhost:8080/"
        },
        "outputId": "4b3d870e-76ef-4fdc-a647-76b6eb02ad23"
      },
      "execution_count": null,
      "outputs": [
        {
          "output_type": "stream",
          "name": "stdout",
          "text": [
            "radix Sort Processing Time: 0.00036081640720367434\n"
          ]
        }
      ]
    },
    {
      "cell_type": "code",
      "source": [
        "import math\n",
        "def bucketSort(A):\n",
        "  n = len(A)  #배열 A의 길이를 n에 저장한다\n",
        "  B = [[] for _ in range(n)]  #n개의 빈 리스트 생성\n",
        "\n",
        "  for i in range(n):  #배열 A의 각 요소에 대해 반복한다\n",
        "    index = min(n - 1, math.floor(n * A[i]))  #각 요소의 버킷 인덱스를 계산한다\n",
        "    B[index].append(A[i])  #해당 버킷에 요소를 추가한다\n",
        "\n",
        "  A.clear()  #A를 비운다\n",
        "\n",
        "  for i in range(n):  #각 버킷을 순회\n",
        "    insertionSort(B[i])  #각 버킷을 삽입 정렬을 사용해 정렬한다\n",
        "    A.extend(B[i])  #정렬된 버킷의 요소를 배열 A에 추가한다\n",
        "\n",
        "def insertionSort(A):\n",
        "  for i in range(1, len(A)):  #1부터 끝까지 순회\n",
        "    loc = i - 1  #현재 위치에서 바로 이전 위치를 loc에 저장한다\n",
        "    newItem = A[i]  #현재 위치의 값을 newItem에 저장한다\n",
        "    while loc >= 0 and newItem < A[loc]:  #loc가 0 이상이고 newItem이 A[loc]보다 작을 동안 반복한다\n",
        "      A[loc + 1] = A[loc]  #A[loc]의 값을 오른쪽으로 한 칸 이동한다\n",
        "      loc -= 1  #loc를 한 칸 왼쪽으로 이동한다\n",
        "    A[loc + 1] = newItem  #newItem을 삽입한다\n",
        "listLength=300\n",
        "sys.setrecursionlimit(listLength*1000)\n",
        "A=[]\n",
        "times=[]\n",
        "for i in range(0, 10000):\n",
        "  for value in range(0, listLength):\n",
        "    A.append(random.randint(0,100))\n",
        "  B=A\n",
        "  start=time.time()\n",
        "  bucketSort(B)\n",
        "  end=time.time()\n",
        "  times.append(end-start)\n",
        "  A.clear()\n",
        "  B.clear()\n",
        "print('bucket Sort Processing Time:', np.mean(times))\n",
        "times.clear()"
      ],
      "metadata": {
        "id": "kNtj7Kwlc5bl",
        "colab": {
          "base_uri": "https://localhost:8080/"
        },
        "outputId": "76b35ab9-cf28-414a-9237-d6576bb9d674"
      },
      "execution_count": null,
      "outputs": [
        {
          "output_type": "stream",
          "name": "stdout",
          "text": [
            "bucket Sort Processing Time: 0.0041750145435333254\n"
          ]
        }
      ]
    },
    {
      "cell_type": "markdown",
      "source": [
        "![스크린샷 2024-28 215338.png](data:image/png;base64,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)"
      ],
      "metadata": {
        "id": "KMVzFx5QRAOc"
      }
    },
    {
      "cell_type": "markdown",
      "source": [
        "Radix Sort, counting Sort, Quick Sort, Shell Sort, Merge Sort, Insert Sort, Selection Sort, Bucket Sort, Bubble Sort 순으로 속도가 빠르다.\n",
        "시간 복잡도가 동일함에도 정렬시간에 차이가 발생하는 이유로는 작업량의 차이와 추가 메모리 사용이 있다.\n",
        "\n",
        "버블 정렬에서 두 수의 자리를 바꾸는 작업을 하는 것처럼 정렬간에 실제 작업량 차이가 있을 수 있고 작업 중 추가 메모리가 필요할때는 동적할당을 해야 하기 때문에 처리 시간이 길어질수 있다.\n"
      ],
      "metadata": {
        "id": "EScxjSLMcqBf"
      }
    }
  ]
}